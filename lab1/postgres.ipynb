{
 "cells": [
  {
   "cell_type": "code",
   "execution_count": null,
   "id": "6af27e3b",
   "metadata": {},
   "outputs": [],
   "source": [
    "from data"
   ]
  },
  {
   "cell_type": "code",
   "execution_count": 30,
   "id": "c91c493e",
   "metadata": {},
   "outputs": [
    {
     "name": "stdout",
     "output_type": "stream",
     "text": [
      "Table corpus created\n",
      "Finished storing textual data\n",
      "Minimum time: 0.471947 seconds\n",
      "Maximum time: 1.614666 seconds\n",
      "Average time: 0.925559 seconds\n",
      "Standard deviation: 0.070079 seconds\n"
     ]
    }
   ],
   "source": [
    "import psycopg2\n",
    "import time\n",
    "import statistics\n",
    "from datasets import load_dataset\n",
    "from config import load_config\n",
    "\n",
    "def create_table():\n",
    "    cmd = \"\"\" CREATE TABLE IF NOT EXISTS corpus (\n",
    "        sentence_id INTEGER PRIMARY KEY GENERATED ALWAYS AS IDENTITY,\n",
    "        sentence TEXT NOT NULL\n",
    "        )\"\"\"\n",
    "    try:\n",
    "        config = load_config()\n",
    "        with psycopg2.connect(**config) as conn:\n",
    "            with conn.cursor() as cur:\n",
    "                    cur.execute(cmd)\n",
    "    except (psycopg2.DatabaseError, Exception) as error:\n",
    "        print(error)\n",
    "\n",
    "    print(\"Table corpus created\")\n",
    "\n",
    "def insert_sentences(ds_chunk):\n",
    "    sql = \"\"\"INSERT INTO corpus (sentence) VALUES (%s)\"\"\"\n",
    "    text_chunks = []\n",
    "    for example in ds_chunk:\n",
    "        text = example[\"text\"]\n",
    "        text_chunks.append((text,))\n",
    "    try:\n",
    "        config = load_config()\n",
    "        with psycopg2.connect(**config) as conn:\n",
    "            with conn.cursor() as cur:\n",
    "                cur.executemany(sql, text_chunks)\n",
    "            conn.commit()\n",
    "    except (Exception, psycopg2.DatabaseError) as error:\n",
    "        print(error)\n",
    "\n",
    "if __name__ == '__main__':\n",
    "    create_table()\n",
    "    times = []\n",
    "    ds = load_dataset(\"rojagtap/bookcorpus\", split=\"train\")\n",
    "    chunk_size = 10000\n",
    "    for i in range(0, len(ds), chunk_size):\n",
    "        start_time = time.time()\n",
    "        chunk = ds.select(range(i, min(i + chunk_size, len(ds))))\n",
    "        insert_sentences(chunk)\n",
    "        end_time = time.time()\n",
    "        times.append(end_time - start_time)\n",
    "    \n",
    "    print(\"Finished storing textual data\")\n",
    "    min_time = min(times)\n",
    "    max_time = max(times)\n",
    "    avg_time = sum(times) / len(times)\n",
    "    std_dev = statistics.stdev(times) if len(times) > 1 else 0\n",
    "    print(f\"Minimum time: {min_time:.6f} seconds\")\n",
    "    print(f\"Maximum time: {max_time:.6f} seconds\")\n",
    "    print(f\"Average time: {avg_time:.6f} seconds\")\n",
    "    print(f\"Standard deviation: {std_dev:.6f} seconds\")\n",
    "    "
   ]
  },
  {
   "cell_type": "code",
   "execution_count": null,
   "id": "7df0be7f",
   "metadata": {},
   "outputs": [],
   "source": []
  },
  {
   "cell_type": "code",
   "execution_count": null,
   "id": "ab029da9",
   "metadata": {},
   "outputs": [],
   "source": []
  }
 ],
 "metadata": {
  "kernelspec": {
   "display_name": "Python 3",
   "language": "python",
   "name": "python3"
  },
  "language_info": {
   "codemirror_mode": {
    "name": "ipython",
    "version": 3
   },
   "file_extension": ".py",
   "mimetype": "text/x-python",
   "name": "python",
   "nbconvert_exporter": "python",
   "pygments_lexer": "ipython3",
   "version": "3.12.10"
  }
 },
 "nbformat": 4,
 "nbformat_minor": 5
}
