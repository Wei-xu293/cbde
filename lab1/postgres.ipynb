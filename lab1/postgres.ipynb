{
 "cells": [
  {
   "cell_type": "code",
   "execution_count": 1,
   "id": "c91c493e",
   "metadata": {},
   "outputs": [
    {
     "name": "stdout",
     "output_type": "stream",
     "text": [
      "Table bookcorpus created\n"
     ]
    },
    {
     "name": "stderr",
     "output_type": "stream",
     "text": [
      "Xet Storage is enabled for this repo, but the 'hf_xet' package is not installed. Falling back to regular HTTP download. For better performance, install the package with: `pip install huggingface_hub[hf_xet]` or `pip install hf_xet`\n"
     ]
    },
    {
     "data": {
      "application/vnd.jupyter.widget-view+json": {
       "model_id": "b86a893b6c6447efa0e85dda2eb92372",
       "version_major": 2,
       "version_minor": 0
      },
      "text/plain": [
       "bookcorpus100mb.txt:   0%|          | 0.00/100M [00:00<?, ?B/s]"
      ]
     },
     "metadata": {},
     "output_type": "display_data"
    },
    {
     "name": "stderr",
     "output_type": "stream",
     "text": [
      "C:\\Users\\Wei\\AppData\\Local\\Packages\\PythonSoftwareFoundation.Python.3.12_qbz5n2kfra8p0\\LocalCache\\local-packages\\Python312\\site-packages\\huggingface_hub\\file_download.py:143: UserWarning: `huggingface_hub` cache-system uses symlinks by default to efficiently store duplicated files but your machine does not support them in C:\\Users\\Wei\\.cache\\huggingface\\hub\\datasets--williamkgao--bookcorpus100mb. Caching files will still work but in a degraded version that might require more space on your disk. This warning can be disabled by setting the `HF_HUB_DISABLE_SYMLINKS_WARNING` environment variable. For more details, see https://huggingface.co/docs/huggingface_hub/how-to-cache#limitations.\n",
      "To support symlinks on Windows, you either need to activate Developer Mode or to run Python as an administrator. In order to activate developer mode, see this article: https://docs.microsoft.com/en-us/windows/apps/get-started/enable-your-device-for-development\n",
      "  warnings.warn(message)\n"
     ]
    },
    {
     "data": {
      "application/vnd.jupyter.widget-view+json": {
       "model_id": "6901e1096ecf4226aae9a89a3e48de7e",
       "version_major": 2,
       "version_minor": 0
      },
      "text/plain": [
       "Generating train split:   0%|          | 0/1527753 [00:00<?, ? examples/s]"
      ]
     },
     "metadata": {},
     "output_type": "display_data"
    },
    {
     "name": "stdout",
     "output_type": "stream",
     "text": [
      "Finished storing textual data\n",
      "Minimum time: 0.831936 seconds\n",
      "Maximum time: 2.089854 seconds\n",
      "Average time: 0.990358 seconds\n",
      "Standard deviation: 0.116626 seconds\n"
     ]
    }
   ],
   "source": [
    "import psycopg2\n",
    "import time\n",
    "import statistics\n",
    "from datasets import load_dataset\n",
    "from config import load_config\n",
    "\n",
    "def create_table():\n",
    "    cmd = \"\"\" CREATE TABLE IF NOT EXISTS bookcorpus (\n",
    "        sentence_id INTEGER PRIMARY KEY GENERATED ALWAYS AS IDENTITY,\n",
    "        sentence TEXT NOT NULL\n",
    "        )\"\"\"\n",
    "    try:\n",
    "        config = load_config()\n",
    "        with psycopg2.connect(**config) as conn:\n",
    "            with conn.cursor() as cur:\n",
    "                    cur.execute(cmd)\n",
    "    except (psycopg2.DatabaseError, Exception) as error:\n",
    "        print(error)\n",
    "\n",
    "    print(\"Table bookcorpus created\")\n",
    "\n",
    "def insert_sentences(ds_chunk):\n",
    "    sql = \"\"\"INSERT INTO bookcorpus (sentence) VALUES (%s)\"\"\"\n",
    "    text_chunks = []\n",
    "    for example in ds_chunk:\n",
    "        text = example[\"text\"]\n",
    "        text_chunks.append((text,))\n",
    "    try:\n",
    "        config = load_config()\n",
    "        with psycopg2.connect(**config) as conn:\n",
    "            with conn.cursor() as cur:\n",
    "                cur.executemany(sql, text_chunks)\n",
    "            conn.commit()\n",
    "    except (Exception, psycopg2.DatabaseError) as error:\n",
    "        print(error)\n",
    "\n",
    "if __name__ == '__main__':\n",
    "    create_table()\n",
    "    times = []\n",
    "    ds = load_dataset(\"williamkgao/bookcorpus100mb\", split=\"train\")\n",
    "    chunk_size = 10000\n",
    "    for i in range(0, len(ds), chunk_size):\n",
    "        start_time = time.time()\n",
    "        chunk = ds.select(range(i, min(i + chunk_size, len(ds))))\n",
    "        insert_sentences(chunk)\n",
    "        end_time = time.time()\n",
    "        times.append(end_time - start_time)\n",
    "    \n",
    "    print(\"Finished storing textual data\")\n",
    "    min_time = min(times)\n",
    "    max_time = max(times)\n",
    "    avg_time = sum(times) / len(times)\n",
    "    std_dev = statistics.stdev(times) if len(times) > 1 else 0\n",
    "    print(f\"Minimum time: {min_time:.6f} seconds\")\n",
    "    print(f\"Maximum time: {max_time:.6f} seconds\")\n",
    "    print(f\"Average time: {avg_time:.6f} seconds\")\n",
    "    print(f\"Standard deviation: {std_dev:.6f} seconds\")\n",
    "    "
   ]
  },
  {
   "cell_type": "code",
   "execution_count": null,
   "id": "7df0be7f",
   "metadata": {},
   "outputs": [],
   "source": []
  },
  {
   "cell_type": "code",
   "execution_count": null,
   "id": "ab029da9",
   "metadata": {},
   "outputs": [],
   "source": []
  }
 ],
 "metadata": {
  "kernelspec": {
   "display_name": "Python 3",
   "language": "python",
   "name": "python3"
  },
  "language_info": {
   "codemirror_mode": {
    "name": "ipython",
    "version": 3
   },
   "file_extension": ".py",
   "mimetype": "text/x-python",
   "name": "python",
   "nbconvert_exporter": "python",
   "pygments_lexer": "ipython3",
   "version": "3.12.10"
  }
 },
 "nbformat": 4,
 "nbformat_minor": 5
}
